{
  "cells": [
    {
      "cell_type": "code",
      "execution_count": null,
      "metadata": {
        "id": "W71I_JqTu29i"
      },
      "outputs": [],
      "source": [
        "import numpy as np\n",
        "import tensorflow as tf\n",
        "from tensorflow import keras\n",
        "import pandas as pd\n",
        "import seaborn as sns\n",
        "from pylab import rcParams\n",
        "import matplotlib.pyplot as plt\n",
        "from matplotlib import rc\n",
        "from pandas.plotting import register_matplotlib_converters\n",
        "\n",
        "%matplotlib inline\n",
        "%config InlineBackend.figure_format='retina'\n",
        "\n",
        "register_matplotlib_converters()\n",
        "sns.set(style='whitegrid', palette='muted', font_scale=1.5)\n",
        "\n",
        "rcParams['figure.figsize'] = 22, 10\n",
        "\n",
        "RANDOM_SEED = 42\n",
        "\n",
        "np.random.seed(RANDOM_SEED)\n",
        "tf.random.set_seed(RANDOM_SEED)"
      ]
    },
    {
      "cell_type": "code",
      "execution_count": 10,
      "metadata": {
        "colab": {
          "base_uri": "https://localhost:8080/",
          "height": 426
        },
        "id": "EbYN6Vcx4kR2",
        "outputId": "f8d33a43-122d-45df-fed8-38de5ae14728"
      },
      "outputs": [],
      "source": [
        "import numpy as np\n",
        "from tqdm.notebook import tqdm\n",
        "import pandas as pd\n",
        "from typing import Dict, List\n",
        "import os\n",
        "import matplotlib.pyplot as plt\n",
        "\n",
        "def read_all_data(dir_path:str='processed_training_data') -> Dict[str, pd.DataFrame]:\n",
        "    imu = pd.DataFrame()\n",
        "    imu_t = pd.DataFrame()\n",
        "    ann = pd.DataFrame()\n",
        "    ann_t = pd.DataFrame()\n",
        "\n",
        "    for f in os.listdir(dir_path):\n",
        "        x = pd.read_csv(f'{dir_path}/{f}',header=None)\n",
        "        if f[-7:] == '__x.csv':\n",
        "            imu = pd.concat([imu, x], axis=1)\n",
        "        \n",
        "        elif f[-12:] == '__x_time.csv':\n",
        "            imu_t = pd.concat([imu_t, x], axis=0)\n",
        "            \n",
        "        elif f[-7:] == '__y.csv':\n",
        "            ann = pd.concat([ann, x], axis=0)\n",
        "            \n",
        "        elif f[-12:] == '__y_time.csv':\n",
        "            ann_t = pd.concat([ann_t, x], axis=0)\n",
        "\n",
        "    \n",
        "\n",
        "    return {\n",
        "        'imu': imu,\n",
        "        'imu_t': imu_t.reset_index(drop=True),\n",
        "        'ann': ann.reset_index(drop=True),\n",
        "        'ann_t': ann_t.reset_index(drop=True)\n",
        "    }\n",
        "\n",
        "\n",
        "df_dict = read_all_data('TrainingData')\n",
        "\n",
        "\n",
        "\n"
      ]
    },
    {
      "cell_type": "code",
      "execution_count": 40,
      "metadata": {},
      "outputs": [
        {
          "name": "stdout",
          "output_type": "stream",
          "text": [
            "1\n",
            "1\n",
            "1\n",
            "1\n",
            "1\n",
            "1\n",
            "1\n",
            "1\n",
            "2\n",
            "2\n",
            "2\n",
            "2\n",
            "2\n",
            "3\n",
            "3\n",
            "3\n",
            "4\n",
            "4\n",
            "5\n",
            "5\n",
            "5\n",
            "6\n",
            "6\n",
            "6\n",
            "7\n",
            "7\n",
            "7\n",
            "7\n",
            "8\n",
            "   x_time  subject\n",
            "0   0.000        1\n",
            "1   0.025        1\n",
            "2   0.050        1\n",
            "3   0.075        1\n",
            "4   0.100        1\n",
            "x_accel   -3.729431\n",
            "y_accel    9.023376\n",
            "z_accel    4.498917\n",
            "x_gyro    -0.705524\n",
            "y_gyro    -1.156916\n",
            "z_gyro    -0.509679\n",
            "subject    1.000000\n",
            "Name: 2938, dtype: float64\n",
            "x_time     73.45\n",
            "subject     1.00\n",
            "Name: 2938, dtype: float64\n"
          ]
        }
      ],
      "source": [
        "dir_path = 'TrainingData'\n",
        "imu = pd.DataFrame()\n",
        "imu_t = pd.DataFrame()\n",
        "target = pd.DataFrame()\n",
        "target_t = pd.DataFrame()\n",
        "for f in sorted(os.listdir(dir_path)):\n",
        "        if f[-7:] == '__x.csv':\n",
        "            x = pd.read_csv(f'{dir_path}/{f}',\n",
        "                        header=None,\n",
        "                        names =['x_accel','y_accel','z_accel','x_gyro','y_gyro','z_gyro'],\n",
        "                        dtype=np.float64)\n",
        "            sub = f[-13:-10]\n",
        "            sub = int(sub)\n",
        "            x = x.assign(subject = sub)\n",
        "            imu = pd.concat([imu, x], axis=0)\n",
        "\n",
        "        elif f[-12:] == '__x_time.csv':\n",
        "            x = pd.read_csv(f'{dir_path}/{f}',\n",
        "                        header=None,\n",
        "                        names =['x_time'],\n",
        "                        dtype=np.float64)\n",
        "            sub = f[-18:-15]\n",
        "            sub = int(sub)\n",
        "            x = x.assign(subject = sub)\n",
        "            imu_t = pd.concat([imu_t, x], axis=0)\n",
        "\n",
        "        elif f[-7:] == '__y.csv':\n",
        "            x = pd.read_csv(f'{dir_path}/{f}',\n",
        "                        header=None,\n",
        "                        names =['target'],\n",
        "                        dtype=np.int8)\n",
        "            sub = f[-13:-10]\n",
        "            sub = int(sub)\n",
        "            \n",
        "            x = x.assign(subject = sub)\n",
        "            target = pd.concat([target, x], axis=0)\n",
        "\n",
        "        elif f[-12:] == '__y_time.csv':\n",
        "            x = pd.read_csv(f'{dir_path}/{f}',\n",
        "                        header=None,\n",
        "                        names =['y_time'],\n",
        "                        dtype=np.float64)\n",
        "            sub = f[-18:-15]\n",
        "            sub = int(sub)\n",
        "            print(sub)\n",
        "            x = x.assign(subject = sub)\n",
        "            target_t = pd.concat([target_t, x], axis=0)\n",
        "            \n",
        "print(imu_t.head())\n",
        "print(imu.iloc[111000])\n",
        "print(imu_t.iloc[111000])\n",
        "\n",
        "\n"
      ]
    },
    {
      "cell_type": "code",
      "execution_count": 13,
      "metadata": {},
      "outputs": [
        {
          "data": {
            "text/plain": [
              "(70171, 174)"
            ]
          },
          "execution_count": 13,
          "metadata": {},
          "output_type": "execute_result"
        }
      ],
      "source": [
        "df_dict['imu'].shape"
      ]
    },
    {
      "cell_type": "code",
      "execution_count": null,
      "metadata": {
        "id": "49T9VKW64kL7"
      },
      "outputs": [],
      "source": [
        "\"\"\"\n",
        "df = df.apply(pd.to_numeric, errors='coerce')\n",
        "df = df.dropna()\n",
        "df = df.to_numpy()\n",
        "df.shape\n",
        "\"\"\""
      ]
    },
    {
      "cell_type": "code",
      "execution_count": null,
      "metadata": {
        "colab": {
          "base_uri": "https://localhost:8080/",
          "height": 69
        },
        "id": "fZqM4dTWhvn6",
        "outputId": "9ca7dc6a-6095-47ca-d0d1-9745770fa929"
      },
      "outputs": [],
      "source": [
        "import numpy as np\n",
        "from tqdm.notebook import tqdm\n",
        "import pandas as pd\n",
        "from typing import Dict, List\n",
        "import os\n",
        "import matplotlib.pyplot as plt\n",
        "\n",
        "def read_all_data(dir_path:str='processed_training_data') -> Dict[str, pd.DataFrame]:\n",
        "    imu = pd.DataFrame()\n",
        "    imu_t = pd.DataFrame()\n",
        "    ann = pd.DataFrame()\n",
        "    ann_t = pd.DataFrame()\n",
        "\n",
        "    for f in os.listdir(dir_path):\n",
        "        x = pd.read_csv(f'{dir_path}/{f}')\n",
        "        if f[-7:] == '__x.csv':\n",
        "            imu = pd.concat([imu, x], axis=0)\n",
        "        \n",
        "        elif f[-12:] == '__x_time.csv':\n",
        "            imu_t = pd.concat([imu_t, x], axis=0)\n",
        "            \n",
        "        elif f[-7:] == '__y.csv':\n",
        "            ann = pd.concat([ann, x], axis=0)\n",
        "            \n",
        "        elif f[-12:] == '__y_time.csv':\n",
        "            ann_t = pd.concat([ann_t, x], axis=0)\n",
        "\n",
        "    df = pd.concat([imu, ann])\n",
        "    df = df.apply(pd.to_numeric, errors='coerce')\n",
        "    df = df.dropna()\n",
        "\n",
        "    return df.reset_index(drop=True)\n",
        "\n",
        "df = read_all_data('data')\n",
        "df = df.to_numpy()\n",
        "\n",
        "\n",
        "'''\n",
        "ann = data_dict['ann'].to_numpy().flatten()\n",
        "del data_dict # Remove to free memory\n",
        "\n",
        "imu = np.delete(imu,123375,0)\n",
        "ann = np.delete(ann,123375)\n",
        "\n",
        "imu = np.asarray(imu).astype('float32')\n",
        "ann = np.asarray(ann).astype('float32')\n",
        "\"\"\"\n",
        "\"\"\"\n",
        "split = 0.8\n",
        "\n",
        "split_idx = int(len(imu)*split)\n",
        "X_train = imu[:split_idx]\n",
        "X_val = imu[split_idx:]\n",
        "y_train = ann[:split_idx]\n",
        "y_val = ann[split_idx:]\n",
        "'''"
      ]
    },
    {
      "cell_type": "code",
      "execution_count": null,
      "metadata": {
        "colab": {
          "base_uri": "https://localhost:8080/",
          "height": 409
        },
        "id": "jHBAslVU_I-I",
        "outputId": "275e421c-2938-4d2e-c264-91338eab910b"
      },
      "outputs": [],
      "source": [
        "column_names = ['user_id', 'activity', 'timestamp', 'x_axis', 'y_axis', 'z_axis']\n",
        "\n",
        "df = pd.read_csv('WISDM_ar_v1.1/WISDM_ar_v1.1_raw.txt', header=None, names=column_names)\n",
        "df.z_axis.replace(regex=True, inplace=True, to_replace=r';', value=r'')\n",
        "df['z_axis'] = df.z_axis.astype(np.float64)\n",
        "df.dropna(axis=0, how='any', inplace=True)"
      ]
    },
    {
      "cell_type": "code",
      "execution_count": null,
      "metadata": {
        "id": "-LpAG_UbrHqW"
      },
      "outputs": [],
      "source": [
        "for i in range(0,y_train.shape[0]):\n",
        "    try:\n",
        "      d = float(y_train[i])\n",
        "    except ValueError:\n",
        "        print(\"error on line: \",i)"
      ]
    },
    {
      "cell_type": "code",
      "execution_count": null,
      "metadata": {
        "id": "3vJp_pjZk_w5"
      },
      "outputs": [],
      "source": [
        "for i in range(0,X_train.shape[0]):\n",
        "  for j in range(0,X_train.shape[1]):\n",
        "      try:\n",
        "        d = float(X_train[i][j])\n",
        "      except ValueError:\n",
        "          print(\"error on line: \",i)"
      ]
    },
    {
      "cell_type": "code",
      "execution_count": null,
      "metadata": {
        "id": "oQ-1-YdBrUR6"
      },
      "outputs": [],
      "source": [
        "for i in range(0,X_val.shape[0]):\n",
        "  for j in range(0,X_val.shape[1]):\n",
        "      try:\n",
        "        d = float(X_val[i][j])\n",
        "      except ValueError:\n",
        "          print(\"error on line: \",i)"
      ]
    },
    {
      "cell_type": "code",
      "execution_count": null,
      "metadata": {
        "id": "361cSfH3rY7Y"
      },
      "outputs": [],
      "source": [
        "for i in range(0,y_val.shape[0]):\n",
        "    try:\n",
        "      d = float(y_val[i])\n",
        "    except ValueError:\n",
        "        print(\"error on line: \",i)"
      ]
    },
    {
      "cell_type": "code",
      "execution_count": null,
      "metadata": {
        "id": "KTyqjXYzZFLH"
      },
      "outputs": [],
      "source": [
        "from sklearn.preprocessing import RobustScaler\n",
        "\n",
        "# scale_columns = ['x_axis', 'y_axis', 'z_axis']\n",
        "\n",
        "scaler = RobustScaler()\n",
        "\n",
        "scaler = scaler.fit(X_train)\n",
        "\n",
        "df_train = scaler.transform(X_train)\n",
        "\n",
        "# df_test.loc[:, scale_columns] = scaler.transform(df_test[scale_columns].to_numpy())"
      ]
    },
    {
      "cell_type": "code",
      "execution_count": null,
      "metadata": {
        "colab": {
          "base_uri": "https://localhost:8080/",
          "height": 106
        },
        "id": "hd7I0oQGENCj",
        "outputId": "91894586-e5c8-47fc-9709-6eeaa790aba5"
      },
      "outputs": [],
      "source": [
        "from scipy import stats\n",
        "\n",
        "def create_dataset(X, y, time_steps=1, step=1):\n",
        "    Xs, ys = [], []\n",
        "    for i in range(0, len(X) - time_steps, step):\n",
        "        v = X[i:(i + time_steps)]\n",
        "        labels = y[i: i + time_steps]\n",
        "        Xs.append(v)        \n",
        "        ys.append(stats.mode(labels)[0][0])\n",
        "    return np.array(Xs), np.array(ys).reshape(-1, 1)\n",
        "\n",
        "TIME_STEPS = 400\n",
        "STEP = 80\n",
        "\n",
        "X_train, y_train = create_dataset(\n",
        "    imu, \n",
        "    ann, \n",
        "    TIME_STEPS, \n",
        "    STEP\n",
        ")\n",
        "\"\"\"\n",
        "X_test, y_test = create_dataset(\n",
        "    df_test[['x_axis', 'y_axis', 'z_axis']], \n",
        "    df_test.activity, \n",
        "    TIME_STEPS, \n",
        "    STEP\n",
        ")\n",
        "\"\"\""
      ]
    },
    {
      "cell_type": "code",
      "execution_count": null,
      "metadata": {
        "colab": {
          "base_uri": "https://localhost:8080/"
        },
        "id": "ANI74QkyFO-e",
        "outputId": "932ebf14-4f82-44e6-aeaa-430d4095185a"
      },
      "outputs": [],
      "source": [
        "print(X_train.shape, y_train.shape)"
      ]
    },
    {
      "cell_type": "code",
      "execution_count": null,
      "metadata": {
        "colab": {
          "base_uri": "https://localhost:8080/"
        },
        "id": "dLqqCUeXGaHI",
        "outputId": "a582d5df-9d4b-4bbe-8f93-2fbb2bfab1b4"
      },
      "outputs": [],
      "source": [
        "from sklearn.preprocessing import OneHotEncoder\n",
        "\n",
        "enc = OneHotEncoder(handle_unknown='ignore', sparse=False)\n",
        "\n",
        "enc = enc.fit(y_train)\n",
        "\n",
        "y_train = enc.transform(y_train)\n",
        "#y_test = enc.transform(y_test)"
      ]
    },
    {
      "cell_type": "code",
      "execution_count": null,
      "metadata": {
        "colab": {
          "base_uri": "https://localhost:8080/"
        },
        "id": "E7DKvlNsHjrJ",
        "outputId": "e15f7512-b96b-462c-df6b-e4de4ff81256"
      },
      "outputs": [],
      "source": [
        "print(X_train.shape, y_train.shape)"
      ]
    },
    {
      "cell_type": "code",
      "execution_count": null,
      "metadata": {
        "id": "iNrcW4jyG4Bg"
      },
      "outputs": [],
      "source": [
        "model = keras.Sequential()\n",
        "model.add(\n",
        "    keras.layers.Bidirectional(\n",
        "      keras.layers.LSTM(\n",
        "          units=128, \n",
        "          input_shape=[X_train.shape[1], X_train.shape[2]]\n",
        "      )\n",
        "    )\n",
        ")\n",
        "model.add(keras.layers.Dropout(rate=0.5))\n",
        "model.add(keras.layers.Dense(units=128, activation='relu'))\n",
        "model.add(keras.layers.Dense(y_train.shape[1], activation='softmax'))\n",
        "model.compile(loss='categorical_crossentropy', optimizer='adam', metrics=['acc'])"
      ]
    },
    {
      "cell_type": "code",
      "execution_count": null,
      "metadata": {
        "colab": {
          "base_uri": "https://localhost:8080/"
        },
        "id": "FTI_QqxYG-m6",
        "outputId": "4c7ba7af-5f24-4a78-b901-2e99b085d560"
      },
      "outputs": [],
      "source": [
        "history = model.fit(\n",
        "    X_train, y_train,\n",
        "    epochs=20,\n",
        "    batch_size=64,\n",
        "    validation_split = 0.2,\n",
        "    shuffle=False\n",
        ")"
      ]
    },
    {
      "cell_type": "code",
      "execution_count": null,
      "metadata": {
        "colab": {
          "base_uri": "https://localhost:8080/",
          "height": 842
        },
        "id": "omyXhAixf-OI",
        "outputId": "133c4f86-f3fb-4bc1-ecc0-b127add6e01e"
      },
      "outputs": [],
      "source": [
        "plt.plot(history.history['loss'], label='train')\n",
        "plt.plot(history.history['val_loss'], label='test')\n",
        "plt.legend();"
      ]
    },
    {
      "cell_type": "code",
      "execution_count": null,
      "metadata": {
        "colab": {
          "base_uri": "https://localhost:8080/",
          "height": 71
        },
        "id": "x3Zg7V2qVgxO",
        "outputId": "baea1601-be03-4f25-8841-8eb6eb36dd8b"
      },
      "outputs": [],
      "source": [
        "model.evaluate(X_test, y_test)"
      ]
    },
    {
      "cell_type": "code",
      "execution_count": null,
      "metadata": {
        "id": "4fAb2cAeT9ax"
      },
      "outputs": [],
      "source": [
        "y_pred = model.predict(X_test)"
      ]
    },
    {
      "cell_type": "code",
      "execution_count": null,
      "metadata": {
        "id": "qK4txNm-VqLl"
      },
      "outputs": [],
      "source": [
        "from sklearn.metrics import confusion_matrix\n",
        "\n",
        "def plot_cm(y_true, y_pred, class_names):\n",
        "  cm = confusion_matrix(y_true, y_pred)\n",
        "  fig, ax = plt.subplots(figsize=(18, 16)) \n",
        "  ax = sns.heatmap(\n",
        "      cm, \n",
        "      annot=True, \n",
        "      fmt=\"d\", \n",
        "      cmap=sns.diverging_palette(220, 20, n=7),\n",
        "      ax=ax\n",
        "  )\n",
        "\n",
        "  plt.ylabel('Actual')\n",
        "  plt.xlabel('Predicted')\n",
        "  ax.set_xticklabels(class_names)\n",
        "  ax.set_yticklabels(class_names)\n",
        "  b, t = plt.ylim() # discover the values for bottom and top\n",
        "  b += 0.5 # Add 0.5 to the bottom\n",
        "  t -= 0.5 # Subtract 0.5 from the top\n",
        "  plt.ylim(b, t) # update the ylim(bottom, top) values\n",
        "  plt.show() # ta-da!"
      ]
    },
    {
      "cell_type": "code",
      "execution_count": null,
      "metadata": {
        "colab": {
          "base_uri": "https://localhost:8080/",
          "height": 948
        },
        "id": "OhkOzpSt1vLA",
        "outputId": "19efb485-65ce-46e8-9d43-ce218d7a3709"
      },
      "outputs": [],
      "source": [
        "plot_cm(\n",
        "  enc.inverse_transform(y_test),\n",
        "  enc.inverse_transform(y_pred),\n",
        "  enc.categories_[0]\n",
        ")"
      ]
    },
    {
      "cell_type": "code",
      "execution_count": null,
      "metadata": {
        "id": "Mqp65KYQTe_S"
      },
      "outputs": [],
      "source": []
    }
  ],
  "metadata": {
    "accelerator": "GPU",
    "colab": {
      "provenance": []
    },
    "kernelspec": {
      "display_name": "Python 3",
      "name": "python3"
    },
    "language_info": {
      "codemirror_mode": {
        "name": "ipython",
        "version": 3
      },
      "file_extension": ".py",
      "mimetype": "text/x-python",
      "name": "python",
      "nbconvert_exporter": "python",
      "pygments_lexer": "ipython3",
      "version": "3.8.16"
    }
  },
  "nbformat": 4,
  "nbformat_minor": 0
}
