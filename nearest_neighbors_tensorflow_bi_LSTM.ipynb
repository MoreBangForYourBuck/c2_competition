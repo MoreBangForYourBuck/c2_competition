{
 "cells": [
  {
   "cell_type": "code",
   "execution_count": 138,
   "metadata": {},
   "outputs": [],
   "source": [
    "import numpy as np\n",
    "import pandas as pd\n",
    "from typing import Tuple\n",
    "import os\n",
    "from scipy import stats\n",
    "import tensorflow as tf\n",
    "from tensorflow import keras"
   ]
  },
  {
   "cell_type": "code",
   "execution_count": 18,
   "metadata": {},
   "outputs": [],
   "source": [
    "# UP and DOWN sampling functions\n",
    "def nearest_neighbors(to_time:np.ndarray, from_time:np.ndarray, y:np.ndarray) -> np.ndarray:\n",
    "    y_upsample = []\n",
    "    for n_t in to_time:\n",
    "        diff = np.absolute(from_time - n_t)\n",
    "        index = diff.argmin()\n",
    "        y_upsample.append(y[index])\n",
    "    return np.array(y_upsample)\n",
    "\n",
    "nn_upsample = lambda x_time, y_time, y: nearest_neighbors(to_time=x_time, from_time=y_time, y=y)\n",
    "nn_downsample = lambda x_time, y_time, y: nearest_neighbors(to_time=y_time, from_time=x_time, y=y)"
   ]
  },
  {
   "cell_type": "code",
   "execution_count": 116,
   "metadata": {},
   "outputs": [],
   "source": [
    "def read_raw_data(dir_path:str='TrainingData') -> Tuple[np.ndarray, np.ndarray, np.ndarray]:\n",
    "    '''\n",
    "    Reads in the raw data from the directory path and returns X, UPSAMPLED (using nearest neighbors) y,\n",
    "    and subject ids.\n",
    "    '''\n",
    "    \n",
    "    # Unque path stems for subject id and trial number\n",
    "    path_stems = sorted(set([path[:14] for path in os.listdir(dir_path)]))\n",
    "    \n",
    "    # URLs following naming conventions in directory\n",
    "    x_leaf = '__x'\n",
    "    x_time_leaf = '__x_time'\n",
    "    y_leaf = '__y'\n",
    "    y_time_leaf = '__y_time'\n",
    "    \n",
    "    X_total = []\n",
    "    y_total = []\n",
    "    subject_ids = []\n",
    "    for stem in path_stems:\n",
    "        X = pd.read_csv(os.path.join(dir_path, f'{stem}{x_leaf}.csv'), header=None).to_numpy()\n",
    "        x_t = pd.read_csv(os.path.join(dir_path, f'{stem}{x_time_leaf}.csv'), header=None).to_numpy()\n",
    "        y = pd.read_csv(os.path.join(dir_path, f'{stem}{y_leaf}.csv'), header=None).to_numpy()\n",
    "        y_t = pd.read_csv(os.path.join(dir_path, f'{stem}{y_time_leaf}.csv'), header=None).to_numpy()\n",
    "        \n",
    "        # Upsample y using nearest neighbors\n",
    "        y = nn_upsample(x_time=x_t, y_time=y_t, y=y)\n",
    "        subject_ids.extend([stem.split('_')[1]]*len(X))\n",
    "        \n",
    "        X_total.append(X)\n",
    "        y_total.append(y)\n",
    "    \n",
    "    return (\n",
    "        np.vstack(X_total),\n",
    "        np.vstack(y_total),\n",
    "        np.array(subject_ids)\n",
    "    )"
   ]
  },
  {
   "cell_type": "code",
   "execution_count": 117,
   "metadata": {},
   "outputs": [],
   "source": [
    "X, y, subject_ids = read_raw_data()"
   ]
  },
  {
   "cell_type": "code",
   "execution_count": 118,
   "metadata": {},
   "outputs": [
    {
     "data": {
      "text/plain": [
       "((1341646, 6), (1341646, 1), (1341646,))"
      ]
     },
     "execution_count": 118,
     "metadata": {},
     "output_type": "execute_result"
    }
   ],
   "source": [
    "X.shape, y.shape, subject_ids.shape"
   ]
  },
  {
   "cell_type": "code",
   "execution_count": 126,
   "metadata": {},
   "outputs": [],
   "source": [
    "# Pull subject 6 out for validation\n",
    "X_train_arr = X[subject_ids != '006', :]\n",
    "X_val_arr = X[subject_ids == '006', :]\n",
    "assert X_val_arr.shape[0] + X_train_arr.shape[0] == X.shape[0]\n",
    "\n",
    "y_train_arr = y[subject_ids != '006', :]\n",
    "y_val_arr = y[subject_ids == '006', :]\n",
    "assert y_train_arr.shape[0] + y_val_arr.shape[0] == y.shape[0]"
   ]
  },
  {
   "cell_type": "code",
   "execution_count": 127,
   "metadata": {},
   "outputs": [
    {
     "name": "stderr",
     "output_type": "stream",
     "text": [
      "/tmp/ipykernel_295201/487324699.py:7: FutureWarning: Unlike other reduction functions (e.g. `skew`, `kurtosis`), the default behavior of `mode` typically preserves the axis it acts along. In SciPy 1.11.0, this behavior will change: the default value of `keepdims` will become False, the `axis` over which the statistic is taken will be eliminated, and the value None will no longer be accepted. Set `keepdims` to True or False to avoid this warning.\n",
      "  ys.append(stats.mode(labels)[0][0])\n"
     ]
    }
   ],
   "source": [
    "def create_dataset(X, y, time_steps=1, step=1):\n",
    "    Xs, ys = [], []\n",
    "    for i in range(0, len(X) - time_steps, step):\n",
    "        v = X[i:(i + time_steps)]\n",
    "        labels = y[i: i + time_steps]\n",
    "        Xs.append(v)        \n",
    "        ys.append(stats.mode(labels)[0][0])\n",
    "    return np.array(Xs), np.array(ys).reshape(-1, 1)\n",
    "\n",
    "window_in_sec = 2\n",
    "stride_in_overlap = .5 # percentage of overlap between windows\n",
    "TIME_STEPS = int(window_in_sec*40)\n",
    "STEP = int(stride_in_overlap * TIME_STEPS)\n",
    "\n",
    "X_train, y_train = create_dataset(\n",
    "    X_train_arr, \n",
    "    y_train_arr, \n",
    "    TIME_STEPS, \n",
    "    STEP\n",
    ")\n",
    "\n",
    "X_val, y_val = create_dataset(\n",
    "    X_val_arr, \n",
    "    y_val_arr, \n",
    "    TIME_STEPS, \n",
    "    STEP\n",
    ")"
   ]
  },
  {
   "cell_type": "code",
   "execution_count": 134,
   "metadata": {},
   "outputs": [],
   "source": [
    "batch_size = 1048\n",
    "\n",
    "# Include the epoch in the file name (uses `str.format`)\n",
    "checkpoint_path = \"jacob_training/cp-best-f1_score.ckpt\"\n",
    "checkpoint_dir = os.path.dirname(checkpoint_path)\n",
    "\n",
    "# Create a callback that saves the model's weights every 5 epochs\n",
    "cp_callback = tf.keras.callbacks.ModelCheckpoint(\n",
    "    filepath=checkpoint_path, \n",
    "    verbose=1, \n",
    "    monitor = 'val_f1_score',\n",
    "    mode = 'max',\n",
    "    save_best_only=True,\n",
    " )"
   ]
  },
  {
   "cell_type": "code",
   "execution_count": 136,
   "metadata": {},
   "outputs": [
    {
     "name": "stderr",
     "output_type": "stream",
     "text": [
      "/home/jacob/ece542_repos/c2_competition/venv/lib/python3.8/site-packages/tensorflow_addons/utils/tfa_eol_msg.py:23: UserWarning: \n",
      "\n",
      "TensorFlow Addons (TFA) has ended development and introduction of new features.\n",
      "TFA has entered a minimal maintenance and release mode until a planned end of life in May 2024.\n",
      "Please modify downstream libraries to take dependencies from other repositories in our TensorFlow community (e.g. Keras, Keras-CV, and Keras-NLP). \n",
      "\n",
      "For more information see: https://github.com/tensorflow/addons/issues/2807 \n",
      "\n",
      "  warnings.warn(\n",
      "2023-04-17 17:01:08.305883: I tensorflow/compiler/xla/stream_executor/cuda/cuda_gpu_executor.cc:996] successful NUMA node read from SysFS had negative value (-1), but there must be at least one NUMA node, so returning NUMA node zero. See more at https://github.com/torvalds/linux/blob/v6.0/Documentation/ABI/testing/sysfs-bus-pci#L344-L355\n",
      "2023-04-17 17:01:08.306448: W tensorflow/core/common_runtime/gpu/gpu_device.cc:1956] Cannot dlopen some GPU libraries. Please make sure the missing libraries mentioned above are installed properly if you would like to use GPU. Follow the guide at https://www.tensorflow.org/install/gpu for how to download and setup the required libraries for your platform.\n",
      "Skipping registering GPU devices...\n"
     ]
    }
   ],
   "source": [
    "import tensorflow_addons as tfa\n",
    "f1_score = tfa.metrics.F1Score(\n",
    "    num_classes = 4,\n",
    "    average = 'macro',\n",
    "    name = 'f1_score'\n",
    ")"
   ]
  },
  {
   "cell_type": "code",
   "execution_count": 139,
   "metadata": {},
   "outputs": [
    {
     "name": "stdout",
     "output_type": "stream",
     "text": [
      "Model: \"sequential\"\n",
      "_________________________________________________________________\n",
      " Layer (type)                Output Shape              Param #   \n",
      "=================================================================\n",
      " bidirectional (Bidirectiona  (None, 512)              538624    \n",
      " l)                                                              \n",
      "                                                                 \n",
      " dense (Dense)               (None, 128)               65664     \n",
      "                                                                 \n",
      " dense_1 (Dense)             (None, 1)                 129       \n",
      "                                                                 \n",
      "=================================================================\n",
      "Total params: 604,417\n",
      "Trainable params: 604,417\n",
      "Non-trainable params: 0\n",
      "_________________________________________________________________\n"
     ]
    }
   ],
   "source": [
    "# tf.config.list_physical_devices('GPU')\n",
    "model = keras.Sequential()\n",
    "model.add(keras.Input(shape=(X_train.shape[1], X_train.shape[2])))\n",
    "model.add(\n",
    "    keras.layers.Bidirectional(\n",
    "      keras.layers.LSTM(\n",
    "          units=256, \n",
    "          recurrent_dropout = .2\n",
    "      )\n",
    "    )\n",
    ")\n",
    "model.add(keras.layers.Dense(units=128, activation='relu'))\n",
    "model.add(keras.layers.Dense(y_train.shape[1], activation='softmax'))\n",
    "model.compile(loss='categorical_crossentropy', optimizer='adam', metrics=['acc',f1_score])\n",
    "\n",
    "model.summary()\n"
   ]
  },
  {
   "cell_type": "code",
   "execution_count": 140,
   "metadata": {},
   "outputs": [
    {
     "name": "stdout",
     "output_type": "stream",
     "text": [
      "Weight for class 0: 0.25\n",
      "Weight for class 1: 1.20\n",
      "Weight for class 2: 1.10\n",
      "Weight for class 3: 3.00\n"
     ]
    }
   ],
   "source": [
    "# Scaling by total/4 helps keep the loss to a similar magnitude.\n",
    "# The sum of the weights of all examples stays the same.\n",
    "'''\n",
    "weight_for_0 = (1 / class0) * (total / 4.0)\n",
    "weight_for_1 = (1 / class1) * (total / 4.0)\n",
    "weight_for_2 = (1 / class2) * (total / 4.0)\n",
    "weight_for_3 = (1 / class3) * (total / 4.0)\n",
    "'''\n",
    "# manuals weights based on confusion matrix\n",
    "weight_for_0 = .25\n",
    "weight_for_1 = 1.2\n",
    "weight_for_2 = 1.1\n",
    "weight_for_3 = 3\n",
    "\n",
    "class_weight = {0: weight_for_0, 1: weight_for_1, 2: weight_for_2, 3: weight_for_3}\n",
    "\n",
    "print('Weight for class 0: {:.2f}'.format(weight_for_0))\n",
    "print('Weight for class 1: {:.2f}'.format(weight_for_1))\n",
    "print('Weight for class 2: {:.2f}'.format(weight_for_2))\n",
    "print('Weight for class 3: {:.2f}'.format(weight_for_3))\n"
   ]
  },
  {
   "cell_type": "code",
   "execution_count": 141,
   "metadata": {},
   "outputs": [
    {
     "name": "stdout",
     "output_type": "stream",
     "text": [
      "Epoch 1/20\n"
     ]
    },
    {
     "name": "stderr",
     "output_type": "stream",
     "text": [
      "2023-04-17 17:06:22.113219: W tensorflow/tsl/framework/cpu_allocator_impl.cc:83] Allocation of 57060480 exceeds 10% of free system memory.\n",
      "/home/jacob/ece542_repos/c2_competition/venv/lib/python3.8/site-packages/tensorflow/python/util/dispatch.py:1176: SyntaxWarning: In loss categorical_crossentropy, expected y_pred.shape to be (batch_size, num_classes) with num_classes > 1. Received: y_pred.shape=(None, 1). Consider using 'binary_crossentropy' if you only have 2 classes.\n",
      "  return dispatch_target(*args, **kwargs)\n"
     ]
    },
    {
     "ename": "ValueError",
     "evalue": "in user code:\n\n    File \"/home/jacob/ece542_repos/c2_competition/venv/lib/python3.8/site-packages/keras/engine/training.py\", line 1284, in train_function  *\n        return step_function(self, iterator)\n    File \"/home/jacob/ece542_repos/c2_competition/venv/lib/python3.8/site-packages/tensorflow_addons/metrics/f_scores.py\", line 160, in update_state  *\n        self.true_positives.assign_add(_weighted_sum(y_pred * y_true, sample_weight))\n\n    ValueError: Dimension 0 in both shapes must be equal, but are 4 and 1. Shapes are [4] and [1]. for '{{node AssignAddVariableOp_25}} = AssignAddVariableOp[dtype=DT_FLOAT](AssignAddVariableOp_25/resource, Sum_3)' with input shapes: [], [1].\n",
     "output_type": "error",
     "traceback": [
      "\u001b[0;31m---------------------------------------------------------------------------\u001b[0m",
      "\u001b[0;31mValueError\u001b[0m                                Traceback (most recent call last)",
      "Cell \u001b[0;32mIn[141], line 1\u001b[0m\n\u001b[0;32m----> 1\u001b[0m history \u001b[39m=\u001b[39m model\u001b[39m.\u001b[39;49mfit(\n\u001b[1;32m      2\u001b[0m     X_train, y_train,\n\u001b[1;32m      3\u001b[0m     epochs\u001b[39m=\u001b[39;49m\u001b[39m20\u001b[39;49m,\n\u001b[1;32m      4\u001b[0m     batch_size\u001b[39m=\u001b[39;49mbatch_size,\n\u001b[1;32m      5\u001b[0m     validation_data \u001b[39m=\u001b[39;49m (X_val, y_val),\n\u001b[1;32m      6\u001b[0m     shuffle\u001b[39m=\u001b[39;49m\u001b[39mFalse\u001b[39;49;00m,\n\u001b[1;32m      7\u001b[0m     callbacks\u001b[39m=\u001b[39;49m[cp_callback],\n\u001b[1;32m      8\u001b[0m     class_weight\u001b[39m=\u001b[39;49mclass_weight\n\u001b[1;32m      9\u001b[0m )\n",
      "File \u001b[0;32m~/ece542_repos/c2_competition/venv/lib/python3.8/site-packages/keras/utils/traceback_utils.py:70\u001b[0m, in \u001b[0;36mfilter_traceback.<locals>.error_handler\u001b[0;34m(*args, **kwargs)\u001b[0m\n\u001b[1;32m     67\u001b[0m     filtered_tb \u001b[39m=\u001b[39m _process_traceback_frames(e\u001b[39m.\u001b[39m__traceback__)\n\u001b[1;32m     68\u001b[0m     \u001b[39m# To get the full stack trace, call:\u001b[39;00m\n\u001b[1;32m     69\u001b[0m     \u001b[39m# `tf.debugging.disable_traceback_filtering()`\u001b[39;00m\n\u001b[0;32m---> 70\u001b[0m     \u001b[39mraise\u001b[39;00m e\u001b[39m.\u001b[39mwith_traceback(filtered_tb) \u001b[39mfrom\u001b[39;00m \u001b[39mNone\u001b[39;00m\n\u001b[1;32m     71\u001b[0m \u001b[39mfinally\u001b[39;00m:\n\u001b[1;32m     72\u001b[0m     \u001b[39mdel\u001b[39;00m filtered_tb\n",
      "File \u001b[0;32m/tmp/__autograph_generated_file7nwmh1_7.py:15\u001b[0m, in \u001b[0;36mouter_factory.<locals>.inner_factory.<locals>.tf__train_function\u001b[0;34m(iterator)\u001b[0m\n\u001b[1;32m     13\u001b[0m \u001b[39mtry\u001b[39;00m:\n\u001b[1;32m     14\u001b[0m     do_return \u001b[39m=\u001b[39m \u001b[39mTrue\u001b[39;00m\n\u001b[0;32m---> 15\u001b[0m     retval_ \u001b[39m=\u001b[39m ag__\u001b[39m.\u001b[39mconverted_call(ag__\u001b[39m.\u001b[39mld(step_function), (ag__\u001b[39m.\u001b[39mld(\u001b[39mself\u001b[39m), ag__\u001b[39m.\u001b[39mld(iterator)), \u001b[39mNone\u001b[39;00m, fscope)\n\u001b[1;32m     16\u001b[0m \u001b[39mexcept\u001b[39;00m:\n\u001b[1;32m     17\u001b[0m     do_return \u001b[39m=\u001b[39m \u001b[39mFalse\u001b[39;00m\n",
      "File \u001b[0;32m/tmp/__autograph_generated_filem_89p8o1.py:57\u001b[0m, in \u001b[0;36mouter_factory.<locals>.inner_factory.<locals>.tf__update_state\u001b[0;34m(self, y_true, y_pred, sample_weight)\u001b[0m\n\u001b[1;32m     55\u001b[0m             \u001b[39mraise\u001b[39;00m\n\u001b[1;32m     56\u001b[0m         \u001b[39mreturn\u001b[39;00m fscope_1\u001b[39m.\u001b[39mret(retval__1, do_return_1)\n\u001b[0;32m---> 57\u001b[0m ag__\u001b[39m.\u001b[39mconverted_call(ag__\u001b[39m.\u001b[39mld(\u001b[39mself\u001b[39m)\u001b[39m.\u001b[39mtrue_positives\u001b[39m.\u001b[39massign_add, (ag__\u001b[39m.\u001b[39mconverted_call(ag__\u001b[39m.\u001b[39mld(_weighted_sum), ((ag__\u001b[39m.\u001b[39mld(y_pred) \u001b[39m*\u001b[39m ag__\u001b[39m.\u001b[39mld(y_true)), ag__\u001b[39m.\u001b[39mld(sample_weight)), \u001b[39mNone\u001b[39;00m, fscope),), \u001b[39mNone\u001b[39;00m, fscope)\n\u001b[1;32m     58\u001b[0m ag__\u001b[39m.\u001b[39mconverted_call(ag__\u001b[39m.\u001b[39mld(\u001b[39mself\u001b[39m)\u001b[39m.\u001b[39mfalse_positives\u001b[39m.\u001b[39massign_add, (ag__\u001b[39m.\u001b[39mconverted_call(ag__\u001b[39m.\u001b[39mld(_weighted_sum), ((ag__\u001b[39m.\u001b[39mld(y_pred) \u001b[39m*\u001b[39m (\u001b[39m1\u001b[39m \u001b[39m-\u001b[39m ag__\u001b[39m.\u001b[39mld(y_true))), ag__\u001b[39m.\u001b[39mld(sample_weight)), \u001b[39mNone\u001b[39;00m, fscope),), \u001b[39mNone\u001b[39;00m, fscope)\n\u001b[1;32m     59\u001b[0m ag__\u001b[39m.\u001b[39mconverted_call(ag__\u001b[39m.\u001b[39mld(\u001b[39mself\u001b[39m)\u001b[39m.\u001b[39mfalse_negatives\u001b[39m.\u001b[39massign_add, (ag__\u001b[39m.\u001b[39mconverted_call(ag__\u001b[39m.\u001b[39mld(_weighted_sum), (((\u001b[39m1\u001b[39m \u001b[39m-\u001b[39m ag__\u001b[39m.\u001b[39mld(y_pred)) \u001b[39m*\u001b[39m ag__\u001b[39m.\u001b[39mld(y_true)), ag__\u001b[39m.\u001b[39mld(sample_weight)), \u001b[39mNone\u001b[39;00m, fscope),), \u001b[39mNone\u001b[39;00m, fscope)\n",
      "\u001b[0;31mValueError\u001b[0m: in user code:\n\n    File \"/home/jacob/ece542_repos/c2_competition/venv/lib/python3.8/site-packages/keras/engine/training.py\", line 1284, in train_function  *\n        return step_function(self, iterator)\n    File \"/home/jacob/ece542_repos/c2_competition/venv/lib/python3.8/site-packages/tensorflow_addons/metrics/f_scores.py\", line 160, in update_state  *\n        self.true_positives.assign_add(_weighted_sum(y_pred * y_true, sample_weight))\n\n    ValueError: Dimension 0 in both shapes must be equal, but are 4 and 1. Shapes are [4] and [1]. for '{{node AssignAddVariableOp_25}} = AssignAddVariableOp[dtype=DT_FLOAT](AssignAddVariableOp_25/resource, Sum_3)' with input shapes: [], [1].\n"
     ]
    }
   ],
   "source": [
    "history = model.fit(\n",
    "    X_train, y_train,\n",
    "    epochs=20,\n",
    "    batch_size=batch_size,\n",
    "    validation_data = (X_val, y_val),\n",
    "    shuffle=False,\n",
    "    callbacks=[cp_callback],\n",
    "    class_weight=class_weight\n",
    ")"
   ]
  },
  {
   "cell_type": "code",
   "execution_count": null,
   "metadata": {},
   "outputs": [],
   "source": []
  }
 ],
 "metadata": {
  "kernelspec": {
   "display_name": "venv",
   "language": "python",
   "name": "python3"
  },
  "language_info": {
   "codemirror_mode": {
    "name": "ipython",
    "version": 3
   },
   "file_extension": ".py",
   "mimetype": "text/x-python",
   "name": "python",
   "nbconvert_exporter": "python",
   "pygments_lexer": "ipython3",
   "version": "3.8.5"
  },
  "orig_nbformat": 4
 },
 "nbformat": 4,
 "nbformat_minor": 2
}
